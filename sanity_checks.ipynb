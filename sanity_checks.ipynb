{
 "cells": [
  {
   "attachments": {},
   "cell_type": "markdown",
   "metadata": {},
   "source": [
    "### RestAPI checks"
   ]
  },
  {
   "cell_type": "code",
   "execution_count": 2,
   "metadata": {},
   "outputs": [
    {
     "name": "stdout",
     "output_type": "stream",
     "text": [
      "{'message': 'OK', 'method': 'GET', 'status-code': 200, 'timestamp': '2023-03-03T11:45:13.983337', 'url': 'http://localhost:8000/', 'data': {}}\n"
     ]
    }
   ],
   "source": [
    "# curl check\n",
    "import json\n",
    "import requests\n",
    "\n",
    "response = requests.get(\"http://localhost:8000/\")\n",
    "print (json.loads(response.text))"
   ]
  },
  {
   "cell_type": "code",
   "execution_count": 2,
   "metadata": {},
   "outputs": [
    {
     "name": "stdout",
     "output_type": "stream",
     "text": [
      "{\"message\":\"OK\",\"status-code\":200,\"data\":{}}\n"
     ]
    },
    {
     "name": "stderr",
     "output_type": "stream",
     "text": [
      "  % Total    % Received % Xferd  Average Speed   Time    Time     Time  Current\n",
      "                                 Dload  Upload   Total   Spent    Left  Speed\n",
      "\n",
      "  0     0    0     0    0     0      0      0 --:--:-- --:--:-- --:--:--     0\n",
      "100    44  100    44    0     0  24760      0 --:--:-- --:--:-- --:--:-- 44000\n"
     ]
    }
   ],
   "source": [
    "!curl -X GET http://localhost:8000/ "
   ]
  },
  {
   "attachments": {},
   "cell_type": "markdown",
   "metadata": {},
   "source": [
    "### Unit Test checks"
   ]
  },
  {
   "cell_type": "code",
   "execution_count": 7,
   "metadata": {},
   "outputs": [],
   "source": [
    "# Basic test\n",
    "def is_fruit(fruit):\n",
    "    fruit = fruit.lower()\n",
    "    return fruit in ['apple', 'banana', 'orange']\n",
    "\n",
    "def test_is_fruit():\n",
    "    assert is_fruit('Apple') == True\n",
    "    assert is_fruit('Tomatoe') == False\n",
    "\n",
    "test_is_fruit()"
   ]
  },
  {
   "cell_type": "code",
   "execution_count": 12,
   "metadata": {},
   "outputs": [],
   "source": [
    "# Test class\n",
    "class Fruit(object):\n",
    "    def __init__(self, name):\n",
    "        self.name = name\n",
    "\n",
    "class TestFruit:\n",
    "    def setup_method(self):\n",
    "        self.fruit = Fruit('Apple')\n",
    "    def teardown_method(self):\n",
    "        del self.fruit\n",
    "    def test_init(self):\n",
    "        assert self.fruit.name == 'Apple'"
   ]
  },
  {
   "cell_type": "code",
   "execution_count": 15,
   "metadata": {},
   "outputs": [
    {
     "ename": "TypeError",
     "evalue": "test_is_fruit_parametrize() missing 2 required positional arguments: 'fruit' and 'case'",
     "output_type": "error",
     "traceback": [
      "\u001b[1;31m---------------------------------------------------------------------------\u001b[0m",
      "\u001b[1;31mTypeError\u001b[0m                                 Traceback (most recent call last)",
      "\u001b[1;32md:\\Code\\Other\\ml-ops\\sanity_checks.ipynb Cell 7\u001b[0m in \u001b[0;36m<cell line: 15>\u001b[1;34m()\u001b[0m\n\u001b[0;32m      <a href='vscode-notebook-cell:/d%3A/Code/Other/ml-ops/sanity_checks.ipynb#X11sZmlsZQ%3D%3D?line=2'>3</a>\u001b[0m \u001b[39m@pytest\u001b[39m\u001b[39m.\u001b[39mmark\u001b[39m.\u001b[39mparametrize(\n\u001b[0;32m      <a href='vscode-notebook-cell:/d%3A/Code/Other/ml-ops/sanity_checks.ipynb#X11sZmlsZQ%3D%3D?line=3'>4</a>\u001b[0m     \u001b[39m\"\u001b[39m\u001b[39mfruit, crisp\u001b[39m\u001b[39m\"\u001b[39m,\n\u001b[0;32m      <a href='vscode-notebook-cell:/d%3A/Code/Other/ml-ops/sanity_checks.ipynb#X11sZmlsZQ%3D%3D?line=4'>5</a>\u001b[0m     [\n\u001b[1;32m   (...)\u001b[0m\n\u001b[0;32m     <a href='vscode-notebook-cell:/d%3A/Code/Other/ml-ops/sanity_checks.ipynb#X11sZmlsZQ%3D%3D?line=10'>11</a>\u001b[0m \n\u001b[0;32m     <a href='vscode-notebook-cell:/d%3A/Code/Other/ml-ops/sanity_checks.ipynb#X11sZmlsZQ%3D%3D?line=11'>12</a>\u001b[0m \u001b[39mdef\u001b[39;00m \u001b[39mtest_is_fruit_parametrize\u001b[39m(fruit, case):\n\u001b[0;32m     <a href='vscode-notebook-cell:/d%3A/Code/Other/ml-ops/sanity_checks.ipynb#X11sZmlsZQ%3D%3D?line=12'>13</a>\u001b[0m     \u001b[39massert\u001b[39;00m is_fruit(fruit\u001b[39m=\u001b[39mfruit) \u001b[39m==\u001b[39m case\n\u001b[1;32m---> <a href='vscode-notebook-cell:/d%3A/Code/Other/ml-ops/sanity_checks.ipynb#X11sZmlsZQ%3D%3D?line=14'>15</a>\u001b[0m test_is_fruit_parametrize()\n",
      "\u001b[1;31mTypeError\u001b[0m: test_is_fruit_parametrize() missing 2 required positional arguments: 'fruit' and 'case'"
     ]
    }
   ],
   "source": [
    "import pytest\n",
    "\n",
    "@pytest.mark.parametrize(\n",
    "    \"fruit, crisp\",\n",
    "    [\n",
    "        (\"apple\", True),\n",
    "        (\"Apple\", True),\n",
    "        (\"tomatoe\", False),\n",
    "    ],\n",
    ")\n",
    "\n",
    "def test_is_fruit_parametrize(fruit, case):\n",
    "    assert is_fruit(fruit=fruit) == case\n",
    "\n",
    "test_is_fruit_parametrize()"
   ]
  },
  {
   "cell_type": "code",
   "execution_count": null,
   "metadata": {},
   "outputs": [],
   "source": []
  }
 ],
 "metadata": {
  "kernelspec": {
   "display_name": "base",
   "language": "python",
   "name": "python3"
  },
  "language_info": {
   "codemirror_mode": {
    "name": "ipython",
    "version": 3
   },
   "file_extension": ".py",
   "mimetype": "text/x-python",
   "name": "python",
   "nbconvert_exporter": "python",
   "pygments_lexer": "ipython3",
   "version": "3.9.12"
  },
  "orig_nbformat": 4,
  "vscode": {
   "interpreter": {
    "hash": "16f5b46f222e2a3e8d4adbf7141cae37b71ed37616e60735fa5d1164a1bc3ada"
   }
  }
 },
 "nbformat": 4,
 "nbformat_minor": 2
}
